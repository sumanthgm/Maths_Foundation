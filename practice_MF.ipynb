{
  "nbformat": 4,
  "nbformat_minor": 0,
  "metadata": {
    "colab": {
      "provenance": [],
      "authorship_tag": "ABX9TyOlnYfUX1yKP6jljlw89NlG",
      "include_colab_link": true
    },
    "kernelspec": {
      "name": "python3",
      "display_name": "Python 3"
    },
    "language_info": {
      "name": "python"
    }
  },
  "cells": [
    {
      "cell_type": "markdown",
      "metadata": {
        "id": "view-in-github",
        "colab_type": "text"
      },
      "source": [
        "<a href=\"https://colab.research.google.com/github/sumanthgm/Maths_Foundation/blob/main/practice_MF.ipynb\" target=\"_parent\"><img src=\"https://colab.research.google.com/assets/colab-badge.svg\" alt=\"Open In Colab\"/></a>"
      ]
    },
    {
      "cell_type": "code",
      "execution_count": 2,
      "metadata": {
        "id": "HqTh2S8c90V-"
      },
      "outputs": [],
      "source": [
        "import numpy as np\n",
        "import scipy.linalg as la"
      ]
    },
    {
      "cell_type": "markdown",
      "source": [
        "Numpy array can be used to create a vector - both row and column vectors."
      ],
      "metadata": {
        "id": "xYRFEmek_Haa"
      }
    },
    {
      "cell_type": "code",
      "source": [
        "a= np.array([1,2,3,4,5]) #6 dimention vector\n",
        "a"
      ],
      "metadata": {
        "colab": {
          "base_uri": "https://localhost:8080/"
        },
        "id": "CnAuQyXM_IBI",
        "outputId": "b454143c-2f7a-4c92-bb51-3158a3b7ab81"
      },
      "execution_count": 10,
      "outputs": [
        {
          "output_type": "execute_result",
          "data": {
            "text/plain": [
              "array([1, 2, 3, 4, 5])"
            ]
          },
          "metadata": {},
          "execution_count": 10
        }
      ]
    },
    {
      "cell_type": "markdown",
      "source": [
        "The shape and type of the vectors can be checked using array_name.shape and type(array_name)"
      ],
      "metadata": {
        "id": "Mprjw-Uk_wog"
      }
    },
    {
      "cell_type": "code",
      "source": [
        "a.shape"
      ],
      "metadata": {
        "colab": {
          "base_uri": "https://localhost:8080/"
        },
        "id": "VMm0HCAH_rEK",
        "outputId": "cbcae62d-534d-4920-c11d-5810da31c588"
      },
      "execution_count": 14,
      "outputs": [
        {
          "output_type": "execute_result",
          "data": {
            "text/plain": [
              "(5,)"
            ]
          },
          "metadata": {},
          "execution_count": 14
        }
      ]
    },
    {
      "cell_type": "markdown",
      "source": [
        "Data type"
      ],
      "metadata": {
        "id": "S35HrAPu_76F"
      }
    },
    {
      "cell_type": "code",
      "source": [
        "type(a)\n",
        "a.dtype"
      ],
      "metadata": {
        "colab": {
          "base_uri": "https://localhost:8080/"
        },
        "id": "9upUmXoE_-Rb",
        "outputId": "3e7b2147-993e-456f-89ce-ca6bc89d5530"
      },
      "execution_count": 19,
      "outputs": [
        {
          "output_type": "execute_result",
          "data": {
            "text/plain": [
              "dtype('int64')"
            ]
          },
          "metadata": {},
          "execution_count": 19
        }
      ]
    },
    {
      "cell_type": "code",
      "source": [
        "a.shape=(1,5)\n",
        "print(a)"
      ],
      "metadata": {
        "colab": {
          "base_uri": "https://localhost:8080/"
        },
        "id": "Y5MWbcxoArCX",
        "outputId": "0b0aad62-9245-4b42-a110-eadee664e973"
      },
      "execution_count": 30,
      "outputs": [
        {
          "output_type": "stream",
          "name": "stdout",
          "text": [
            "[[1 2 3 4 5]]\n"
          ]
        }
      ]
    },
    {
      "cell_type": "code",
      "source": [
        "a.transpose()"
      ],
      "metadata": {
        "colab": {
          "base_uri": "https://localhost:8080/"
        },
        "id": "QnMpDKYxBs8K",
        "outputId": "86ce6397-7db9-4509-8d21-751aab6bc9a6"
      },
      "execution_count": 31,
      "outputs": [
        {
          "output_type": "execute_result",
          "data": {
            "text/plain": [
              "array([[1],\n",
              "       [2],\n",
              "       [3],\n",
              "       [4],\n",
              "       [5]])"
            ]
          },
          "metadata": {},
          "execution_count": 31
        }
      ]
    },
    {
      "cell_type": "markdown",
      "source": [
        "Addition & Subtraction  Vectors & Multiplication"
      ],
      "metadata": {
        "id": "KXERtGFvB4d_"
      }
    },
    {
      "cell_type": "code",
      "source": [
        "a=np.array([1,2,3,4,5])\n",
        "b=np.array([5,4,3,2,1])\n",
        "print(a+b)\n",
        "print(a-b)\n",
        "print(a*b)"
      ],
      "metadata": {
        "colab": {
          "base_uri": "https://localhost:8080/"
        },
        "id": "dG6Z8P68B0vV",
        "outputId": "6f6cd344-d251-44d9-c884-66d2000dc19f"
      },
      "execution_count": 33,
      "outputs": [
        {
          "output_type": "stream",
          "name": "stdout",
          "text": [
            "[6 6 6 6 6]\n",
            "[-4 -2  0  2  4]\n",
            "[5 8 9 8 5]\n"
          ]
        }
      ]
    },
    {
      "cell_type": "markdown",
      "source": [
        "### Matrix Creation and manipulation"
      ],
      "metadata": {
        "id": "WR1gZxtACgbx"
      }
    },
    {
      "cell_type": "code",
      "source": [
        "# Create a matrix with all zeros\n",
        "a=np.zeros((2,2))\n",
        "a"
      ],
      "metadata": {
        "colab": {
          "base_uri": "https://localhost:8080/"
        },
        "id": "tHvvUieOChMI",
        "outputId": "205b4c72-f1e1-41d7-c541-edfdd7a0b53b"
      },
      "execution_count": 36,
      "outputs": [
        {
          "output_type": "execute_result",
          "data": {
            "text/plain": [
              "array([[0., 0.],\n",
              "       [0., 0.]])"
            ]
          },
          "metadata": {},
          "execution_count": 36
        }
      ]
    },
    {
      "cell_type": "code",
      "source": [
        "# Create a matrix with all ones\n",
        "a=np.ones((3,1))\n",
        "a"
      ],
      "metadata": {
        "colab": {
          "base_uri": "https://localhost:8080/"
        },
        "id": "RtOpgXMoC-Ug",
        "outputId": "9f9eb69e-76f3-43ec-f7cf-a250303a793d"
      },
      "execution_count": 37,
      "outputs": [
        {
          "output_type": "execute_result",
          "data": {
            "text/plain": [
              "array([[1.],\n",
              "       [1.],\n",
              "       [1.]])"
            ]
          },
          "metadata": {},
          "execution_count": 37
        }
      ]
    },
    {
      "cell_type": "code",
      "source": [
        "# Create matrix with floting numbers\n",
        "a=np.full((1,3),1.1)\n",
        "a"
      ],
      "metadata": {
        "colab": {
          "base_uri": "https://localhost:8080/"
        },
        "id": "R9WFUpcxDGXn",
        "outputId": "ecba2200-8904-49ee-dc20-a966e90642f3"
      },
      "execution_count": 43,
      "outputs": [
        {
          "output_type": "execute_result",
          "data": {
            "text/plain": [
              "array([[1.1, 1.1, 1.1]])"
            ]
          },
          "metadata": {},
          "execution_count": 43
        }
      ]
    },
    {
      "cell_type": "code",
      "source": [
        "# Creat random numbers\n",
        "a=np.random.random((3,3))\n",
        "a\n"
      ],
      "metadata": {
        "colab": {
          "base_uri": "https://localhost:8080/"
        },
        "id": "S0YBWYqOEGtR",
        "outputId": "91f79df2-6632-4fe2-b699-9891c83f74a1"
      },
      "execution_count": 56,
      "outputs": [
        {
          "output_type": "execute_result",
          "data": {
            "text/plain": [
              "array([[0.31776355, 0.74476711, 0.49943758],\n",
              "       [0.80083456, 0.73639878, 0.76707205],\n",
              "       [0.16827801, 0.57501556, 0.23452609]])"
            ]
          },
          "metadata": {},
          "execution_count": 56
        }
      ]
    },
    {
      "cell_type": "markdown",
      "source": [
        "# Vector and Matrix Operations"
      ],
      "metadata": {
        "id": "-ogsXFA-FJNj"
      }
    },
    {
      "cell_type": "code",
      "source": [],
      "metadata": {
        "id": "g9sEi41eE1r9"
      },
      "execution_count": null,
      "outputs": []
    }
  ]
}