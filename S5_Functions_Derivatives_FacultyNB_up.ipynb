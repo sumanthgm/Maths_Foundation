{
  "cells": [
    {
      "cell_type": "markdown",
      "metadata": {
        "id": "view-in-github",
        "colab_type": "text"
      },
      "source": [
        "<a href=\"https://colab.research.google.com/github/sumanthgm/Maths_Foundation/blob/main/S5_Functions_Derivatives_FacultyNB_up.ipynb\" target=\"_parent\"><img src=\"https://colab.research.google.com/assets/colab-badge.svg\" alt=\"Open In Colab\"/></a>"
      ]
    },
    {
      "cell_type": "markdown",
      "metadata": {
        "id": "98LgrizzS3Ou"
      },
      "source": [
        "#Using Sympy library"
      ]
    },
    {
      "cell_type": "markdown",
      "metadata": {
        "id": "0Xdal8ehf88u"
      },
      "source": [
        "SymPy is a Python library for symbolic mathematics. It aims to become a full-featured computer algebra system (CAS) while keeping the code as simple as possible in order to be comprehensible and easily extensible. SymPy is written entirely in Python."
      ]
    },
    {
      "cell_type": "code",
      "execution_count": 2,
      "metadata": {
        "colab": {
          "base_uri": "https://localhost:8080/",
          "height": 51
        },
        "id": "cQK8oNv_S7Pn",
        "outputId": "f880dc7c-6ccb-4619-f138-c5fd1134cc5c"
      },
      "outputs": [
        {
          "output_type": "execute_result",
          "data": {
            "text/plain": [
              "1/2"
            ],
            "text/latex": "$\\displaystyle \\frac{1}{2}$"
          },
          "metadata": {},
          "execution_count": 2
        }
      ],
      "source": [
        "import sympy as sym\n",
        "a = sym.Rational(1, 2)\n",
        "a"
      ]
    },
    {
      "cell_type": "code",
      "execution_count": 3,
      "metadata": {
        "colab": {
          "base_uri": "https://localhost:8080/",
          "height": 39
        },
        "id": "NrIak6ADS_si",
        "outputId": "2c997a82-d3fc-4b94-e59d-49e699816960"
      },
      "outputs": [
        {
          "output_type": "execute_result",
          "data": {
            "text/plain": [
              "pi**2"
            ],
            "text/latex": "$\\displaystyle \\pi^{2}$"
          },
          "metadata": {},
          "execution_count": 3
        }
      ],
      "source": [
        "sym.pi**2"
      ]
    },
    {
      "cell_type": "code",
      "execution_count": 6,
      "metadata": {
        "colab": {
          "base_uri": "https://localhost:8080/"
        },
        "id": "hYSEaD-8TDa4",
        "outputId": "d059076e-0a41-4b25-a6b4-4ec8cb7f4085"
      },
      "outputs": [
        {
          "output_type": "stream",
          "name": "stdout",
          "text": [
            "2*x\n",
            "x**6 + 6*x**5*y + 15*x**4*y**2 + 20*x**3*y**3 + 15*x**2*y**4 + 6*x*y**5 + y**6\n",
            "cos(x + y)\n"
          ]
        }
      ],
      "source": [
        "from sympy import*\n",
        "x = sym.Symbol('x')\n",
        "y = sym.Symbol('y')\n",
        "print(x + y + x - y)\n",
        "print(sym.expand((x+y)**6))\n",
        "print(sym.simplify((cos(x+y))))"
      ]
    },
    {
      "cell_type": "code",
      "execution_count": null,
      "metadata": {
        "colab": {
          "base_uri": "https://localhost:8080/",
          "height": 38
        },
        "id": "2yQbarnvTG1i",
        "outputId": "5d362968-0b0f-4190-c718-30d0e0856e39"
      },
      "outputs": [
        {
          "data": {
            "text/latex": [
              "$\\displaystyle x^{3} + 3 x^{2} y + 3 x y^{2} + y^{3}$"
            ],
            "text/plain": [
              "x**3 + 3*x**2*y + 3*x*y**2 + y**3"
            ]
          },
          "execution_count": 4,
          "metadata": {},
          "output_type": "execute_result"
        }
      ],
      "source": [
        "sym.expand((x + y) ** 3)"
      ]
    },
    {
      "cell_type": "code",
      "execution_count": 7,
      "metadata": {
        "colab": {
          "base_uri": "https://localhost:8080/",
          "height": 39
        },
        "id": "61Ytg_0lTMWI",
        "outputId": "9dac7151-3969-4112-f505-e360866953c3"
      },
      "outputs": [
        {
          "output_type": "execute_result",
          "data": {
            "text/plain": [
              "y + 1"
            ],
            "text/latex": "$\\displaystyle y + 1$"
          },
          "metadata": {},
          "execution_count": 7
        }
      ],
      "source": [
        "sym.simplify((x + x * y) / x)"
      ]
    },
    {
      "cell_type": "markdown",
      "metadata": {
        "id": "NbOohuKzOzw-"
      },
      "source": [
        "# Functions"
      ]
    },
    {
      "cell_type": "code",
      "execution_count": 13,
      "metadata": {
        "id": "sdtYhrZEn1BE"
      },
      "outputs": [],
      "source": [
        "def f(x):\n",
        "    return x**2 + x"
      ]
    },
    {
      "cell_type": "code",
      "execution_count": 12,
      "metadata": {
        "colab": {
          "base_uri": "https://localhost:8080/"
        },
        "id": "rtipC95QaQg7",
        "outputId": "a967f5f4-faf5-4553-c3e8-4f6f9fed1d9e"
      },
      "outputs": [
        {
          "output_type": "execute_result",
          "data": {
            "text/plain": [
              "(20, 42)"
            ]
          },
          "metadata": {},
          "execution_count": 12
        }
      ],
      "source": [
        "f(4),f(6)"
      ]
    },
    {
      "cell_type": "code",
      "execution_count": null,
      "metadata": {
        "id": "G4NC5PrL6xVD"
      },
      "outputs": [],
      "source": [
        "# Set the a values\n",
        "x1 = 4\n",
        "x2 = 6\n",
        "\n",
        "# Get the corresponding f(x) values\n",
        "y1 = f(x1) # f(4)=20\n",
        "y2 = f(x2) # f(6)=42\n"
      ]
    },
    {
      "cell_type": "code",
      "execution_count": null,
      "metadata": {
        "colab": {
          "base_uri": "https://localhost:8080/"
        },
        "id": "Hr8RBxA37vqQ",
        "outputId": "eb8d939a-6320-4587-eff3-6ddd7f99753a"
      },
      "outputs": [
        {
          "data": {
            "text/plain": [
              "(20, 42)"
            ]
          },
          "execution_count": 9,
          "metadata": {},
          "output_type": "execute_result"
        }
      ],
      "source": [
        "y1,y2"
      ]
    },
    {
      "cell_type": "code",
      "execution_count": null,
      "metadata": {
        "id": "SuzuHa7z8BL2"
      },
      "outputs": [],
      "source": [
        "import matplotlib.pyplot as plt\n",
        "import numpy as np\n",
        "x = np.arange(0,4*np.pi,0.1)   # start,stop,step\n",
        "y1 = np.sin(x)"
      ]
    },
    {
      "cell_type": "code",
      "execution_count": null,
      "metadata": {
        "colab": {
          "base_uri": "https://localhost:8080/",
          "height": 265
        },
        "id": "OkSERA1B8Dx5",
        "outputId": "4cb8437f-3fd8-4735-d4c8-3621a6fa1d13"
      },
      "outputs": [
        {
          "data": {
            "image/png": "[encoded data removed]",
            "text/plain": [
              "<Figure size 432x288 with 1 Axes>"
            ]
          },
          "metadata": {
            "needs_background": "light"
          },
          "output_type": "display_data"
        }
      ],
      "source": [
        "plt.plot(x,y1)\n",
        "plt.show()"
      ]
    },
    {
      "cell_type": "markdown",
      "metadata": {
        "id": "7dJPbrFUO2kX"
      },
      "source": [
        "# Limits"
      ]
    },
    {
      "cell_type": "markdown",
      "metadata": {
        "id": "dhmsAqx2Tmoh"
      },
      "source": [
        "Limits are easy to use in SymPy, they follow the syntax limit(function, variable, point), so to compute the limit of $f(x)$ as $x \\rightarrow 0$, you would issue limit $\\lim_{x\\rightarrow 0}  f(x)$"
      ]
    },
    {
      "cell_type": "code",
      "execution_count": null,
      "metadata": {
        "id": "CWdHpq6fPjwB"
      },
      "outputs": [],
      "source": [
        "x = sym.Symbol('x')\n",
        "y = sym.Symbol('y')"
      ]
    },
    {
      "cell_type": "markdown",
      "metadata": {
        "id": "Pr1CphGfaQhD"
      },
      "source": [
        "$\\frac{sinx}{x}$ as $x \\rightarrow 0$"
      ]
    },
    {
      "cell_type": "code",
      "execution_count": null,
      "metadata": {
        "id": "qmShL31IaQhD",
        "outputId": "0de3226c-8c44-4e67-8ca5-a8844c4ca552"
      },
      "outputs": [
        {
          "data": {
            "image/png": "[encoded data removed]",
            "text/plain": [
              "<Figure size 432x288 with 1 Axes>"
            ]
          },
          "metadata": {
            "needs_background": "light"
          },
          "output_type": "display_data"
        }
      ],
      "source": [
        "x = np.arange(-4*np.pi,4*np.pi,0.1)   # start,stop,step\n",
        "y1 = np.sin(x)/x\n",
        "plt.plot(x,y1)\n",
        "plt.show()"
      ]
    },
    {
      "cell_type": "markdown",
      "metadata": {
        "id": "77eTKjrlO4kj"
      },
      "source": [
        "# Derivatives"
      ]
    },
    {
      "cell_type": "code",
      "execution_count": null,
      "metadata": {
        "colab": {
          "base_uri": "https://localhost:8080/",
          "height": 253
        },
        "id": "YrPXu8svaAN3",
        "outputId": "35711d55-97c6-4541-8236-3019f3af6bca"
      },
      "outputs": [
        {
          "name": "stdout",
          "output_type": "stream",
          "text": [
            "sin(x)\n"
          ]
        }
      ],
      "source": [
        "from sympy import symbols, sin\n",
        "\n",
        "# Define x as a symbolic variable\n",
        "x = symbols('x')\n",
        "\n",
        "# Define y1 as a symbolic expression\n",
        "y1 = sin(x)\n",
        "\n",
        "# Display y1\n",
        "print(y1)"
      ]
    },
    {
      "cell_type": "markdown",
      "metadata": {
        "id": "10p8pJa4SxrU"
      },
      "source": []
    },
    {
      "cell_type": "code",
      "execution_count": 14,
      "metadata": {
        "id": "eIUbmRDQTyOJ",
        "colab": {
          "base_uri": "https://localhost:8080/",
          "height": 39
        },
        "outputId": "64c390a7-b707-4f04-cdd6-b2585a00bfd6"
      },
      "outputs": [
        {
          "output_type": "execute_result",
          "data": {
            "text/plain": [
              "cos(x)"
            ],
            "text/latex": "$\\displaystyle \\cos{\\left(x \\right)}$"
          },
          "metadata": {},
          "execution_count": 14
        }
      ],
      "source": [
        "sym.diff(sin(x), x)"
      ]
    },
    {
      "cell_type": "code",
      "execution_count": null,
      "metadata": {
        "id": "Lw0DzjHr8cIH",
        "outputId": "f9af0040-91b6-4f5c-f95f-6e77bebc2e3d"
      },
      "outputs": [
        {
          "data": {
            "image/png": "[encoded data removed]",
            "text/plain": [
              "<Figure size 432x288 with 1 Axes>"
            ]
          },
          "metadata": {
            "needs_background": "light"
          },
          "output_type": "display_data"
        }
      ],
      "source": [
        "import numpy as np\n",
        "x = np.arange(-2*np.pi,2*np.pi,0.1)\n",
        "y2=np.cos(x)\n",
        "plt.plot(x,y2)\n",
        "plt.show()"
      ]
    },
    {
      "cell_type": "code",
      "execution_count": 15,
      "metadata": {
        "id": "mSIv4_G_S2ON",
        "colab": {
          "base_uri": "https://localhost:8080/",
          "height": 193
        },
        "outputId": "a716a9df-e253-4a72-e17a-1b9c9dfe91d2"
      },
      "outputs": [
        {
          "output_type": "error",
          "ename": "NameError",
          "evalue": "name 'plt' is not defined",
          "traceback": [
            "\u001b[0;31m---------------------------------------------------------------------------\u001b[0m",
            "\u001b[0;31mNameError\u001b[0m                                 Traceback (most recent call last)",
            "\u001b[0;32m<ipython-input-15-33a4f410768e>\u001b[0m in \u001b[0;36m<cell line: 0>\u001b[0;34m()\u001b[0m\n\u001b[1;32m      2\u001b[0m \u001b[0mx\u001b[0m\u001b[0;34m=\u001b[0m\u001b[0mnp\u001b[0m\u001b[0;34m.\u001b[0m\u001b[0marange\u001b[0m\u001b[0;34m(\u001b[0m\u001b[0;34m-\u001b[0m\u001b[0;36m10\u001b[0m\u001b[0;34m,\u001b[0m\u001b[0;36m11\u001b[0m\u001b[0;34m)\u001b[0m\u001b[0;34m\u001b[0m\u001b[0;34m\u001b[0m\u001b[0m\n\u001b[1;32m      3\u001b[0m \u001b[0my3\u001b[0m\u001b[0;34m=\u001b[0m\u001b[0mx\u001b[0m\u001b[0;34m**\u001b[0m\u001b[0;36m3\u001b[0m\u001b[0;34m\u001b[0m\u001b[0;34m\u001b[0m\u001b[0m\n\u001b[0;32m----> 4\u001b[0;31m \u001b[0mplt\u001b[0m\u001b[0;34m.\u001b[0m\u001b[0mplot\u001b[0m\u001b[0;34m(\u001b[0m\u001b[0mx\u001b[0m\u001b[0;34m,\u001b[0m\u001b[0my3\u001b[0m\u001b[0;34m)\u001b[0m\u001b[0;34m\u001b[0m\u001b[0;34m\u001b[0m\u001b[0m\n\u001b[0m\u001b[1;32m      5\u001b[0m \u001b[0mplt\u001b[0m\u001b[0;34m.\u001b[0m\u001b[0mshow\u001b[0m\u001b[0;34m(\u001b[0m\u001b[0;34m)\u001b[0m\u001b[0;34m\u001b[0m\u001b[0;34m\u001b[0m\u001b[0m\n",
            "\u001b[0;31mNameError\u001b[0m: name 'plt' is not defined"
          ]
        }
      ],
      "source": [
        "import numpy as np\n",
        "x=np.arange(-10,11)\n",
        "y3=x**3\n",
        "plt.plot(x,y3)\n",
        "plt.show()"
      ]
    },
    {
      "cell_type": "code",
      "execution_count": 16,
      "metadata": {
        "id": "2S9nm3Oe8nHo"
      },
      "outputs": [],
      "source": [
        "x = sym.Symbol('x')\n",
        "y = sym.Symbol('y')"
      ]
    },
    {
      "cell_type": "code",
      "execution_count": 17,
      "metadata": {
        "id": "m8tKQbrUTyLf",
        "colab": {
          "base_uri": "https://localhost:8080/",
          "height": 39
        },
        "outputId": "0f08b601-891c-4c14-8852-d1f9667e04c6"
      },
      "outputs": [
        {
          "output_type": "execute_result",
          "data": {
            "text/plain": [
              "2*cos(2*x)"
            ],
            "text/latex": "$\\displaystyle 2 \\cos{\\left(2 x \\right)}$"
          },
          "metadata": {},
          "execution_count": 17
        }
      ],
      "source": [
        "sym.diff(sym.sin(2 * x), x)"
      ]
    },
    {
      "cell_type": "code",
      "execution_count": 18,
      "metadata": {
        "id": "2-siCPfjTyI6",
        "colab": {
          "base_uri": "https://localhost:8080/",
          "height": 39
        },
        "outputId": "38656b07-2e71-4463-c541-996d4e77bfea"
      },
      "outputs": [
        {
          "output_type": "execute_result",
          "data": {
            "text/plain": [
              "tan(x)**2 + 1"
            ],
            "text/latex": "$\\displaystyle \\tan^{2}{\\left(x \\right)} + 1$"
          },
          "metadata": {},
          "execution_count": 18
        }
      ],
      "source": [
        "sym.diff(sym.tan(x), x)"
      ]
    },
    {
      "cell_type": "markdown",
      "metadata": {
        "id": "0vcKKMreT-1u"
      },
      "source": [
        "Higher derivatives can be calculated using the diff(func, var, n) method:"
      ]
    },
    {
      "cell_type": "code",
      "execution_count": 19,
      "metadata": {
        "id": "kIJk0TUITyGZ",
        "colab": {
          "base_uri": "https://localhost:8080/",
          "height": 39
        },
        "outputId": "d6d334f3-d7f7-4afb-c871-ce4939c6a25c"
      },
      "outputs": [
        {
          "output_type": "execute_result",
          "data": {
            "text/plain": [
              "2*cos(2*x)"
            ],
            "text/latex": "$\\displaystyle 2 \\cos{\\left(2 x \\right)}$"
          },
          "metadata": {},
          "execution_count": 19
        }
      ],
      "source": [
        "sym.diff(sym.sin(2 * x), x, 1)"
      ]
    },
    {
      "cell_type": "code",
      "execution_count": 20,
      "metadata": {
        "id": "w-fmwdl1TyDr",
        "colab": {
          "base_uri": "https://localhost:8080/",
          "height": 39
        },
        "outputId": "1efa6d32-e643-4c4a-d603-0f0ced1b4e35"
      },
      "outputs": [
        {
          "output_type": "execute_result",
          "data": {
            "text/plain": [
              "-4*sin(2*x)"
            ],
            "text/latex": "$\\displaystyle - 4 \\sin{\\left(2 x \\right)}$"
          },
          "metadata": {},
          "execution_count": 20
        }
      ],
      "source": [
        "sym.diff(sym.sin(2 * x), x, 2)"
      ]
    },
    {
      "cell_type": "code",
      "execution_count": 21,
      "metadata": {
        "id": "nSSi4oSBUDtm",
        "colab": {
          "base_uri": "https://localhost:8080/",
          "height": 39
        },
        "outputId": "d48c03d9-c51d-4574-eae0-92cb9eb914aa"
      },
      "outputs": [
        {
          "output_type": "execute_result",
          "data": {
            "text/plain": [
              "-8*cos(2*x)"
            ],
            "text/latex": "$\\displaystyle - 8 \\cos{\\left(2 x \\right)}$"
          },
          "metadata": {},
          "execution_count": 21
        }
      ],
      "source": [
        "sym.diff(sym.sin(2 * x), x, 3)"
      ]
    },
    {
      "cell_type": "markdown",
      "metadata": {
        "id": "A38kU_bmVXBH"
      },
      "source": [
        "## Rate of change\n",
        "\n",
        "\n",
        "\n"
      ]
    },
    {
      "cell_type": "markdown",
      "metadata": {
        "id": "l0dULIVFWjYJ"
      },
      "source": [
        "\n",
        "Let's remind ourselves of the problem we're trying to solve, here's a function:\n",
        "\n",
        "\\begin{equation}f(x) = x^{2} + x\\end{equation}\n",
        "\n",
        "We can calculate the average change for the interval between x=4 and x=6 by dividing the change (or *delta*, indicated as &Delta;) in the value of *f(x)* by the change in the value of *x*:\n",
        "\n",
        "\\begin{equation}m = \\frac{\\Delta{f(x)}}{\\Delta{x}} \\end{equation}\n",
        "\n",
        "The delta for *f(x)* is calculated by subtracting the *f(x)* values of our points, and the delta for *x* is calculated by subtracting the *x* values of our points; like this:\n",
        "\n",
        "\\begin{equation}m = \\frac{f(x_2)- f(x_1)}{x_{2} - x_{1}} \\end{equation}\n",
        "\n",
        "So for the interval between x=4 and x=6, that's:\n",
        "\n",
        "\\begin{equation}m = \\frac{f(6) - f(4)}{6 - 4} \\end{equation}\n",
        "\n",
        "The average rate of change for the interval between x=4 and x=6 is <sup>11</sup>/<sub>1</sub> (or simply 11), meaning that for every **1** added to *x*, *f(x)* increases by **11**.\n",
        "\n",
        "Let's visualize this case:"
      ]
    },
    {
      "cell_type": "markdown",
      "metadata": {
        "id": "7zlzak_yWq5Q"
      },
      "source": []
    },
    {
      "cell_type": "code",
      "execution_count": null,
      "metadata": {
        "id": "4UkKGD9xVWan",
        "outputId": "203f7f33-e1a8-46cf-e8f0-cacdcbe7c042"
      },
      "outputs": [
        {
          "name": "stderr",
          "output_type": "stream",
          "text": [
            "/tmp/ipykernel_38583/991503337.py:23: RuntimeWarning: invalid value encountered in divide\n",
            "  a = (y2 - y1) / (x2 - x1)\n"
          ]
        },
        {
          "data": {
            "image/png": "[encoded data removed]",
            "text/plain": [
              "<Figure size 432x288 with 1 Axes>"
            ]
          },
          "metadata": {
            "needs_background": "light"
          },
          "output_type": "display_data"
        }
      ],
      "source": [
        "import numpy as np\n",
        "from matplotlib import pyplot as plt\n",
        "\n",
        "# Define the function\n",
        "def f(x):\n",
        "    return x**2 + x\n",
        "\n",
        "# Create an array of x values from 0 to 10 to plot\n",
        "x = list(range(0, 11))  # {0, 1, 2, ..., 10}\n",
        "\n",
        "# Use the function to get the y values\n",
        "y = [f(i) for i in x]\n",
        "\n",
        "# Set the x1 value and x2 as a range\n",
        "x1 = 4\n",
        "x2 = np.arange(4, 5.1, 0.1)  # Corrected the range to include 5.0\n",
        "\n",
        "# Get the corresponding f(x) values\n",
        "y1 = f(x1)\n",
        "y2 = f(x2)  # Array operation now works with NumPy\n",
        "\n",
        "# Calculate the slope (average rate of change) for each x2\n",
        "a = (y2 - y1) / (x2 - x1)\n",
        "\n",
        "# Create an array of x values for the secant line\n",
        "# Use only the first and last points for visualization\n",
        "sx = [x1, x2[-1]]\n",
        "sy = [y1, f(x2[-1])]\n",
        "\n",
        "# Set up the graph\n",
        "plt.xlabel('x')\n",
        "plt.ylabel('f(x)')\n",
        "plt.grid()\n",
        "\n",
        "# Plot the function\n",
        "plt.plot(x, y, color='blue', label='f(x)')\n",
        "\n",
        "# Plot the interval points\n",
        "plt.scatter([x1, x2[-1]], [y1, f(x2[-1])], c='red', label='Points')\n",
        "\n",
        "# Plot the secant line\n",
        "plt.plot(sx, sy, color='orange', label='Secant Line')\n",
        "\n",
        "# Display the calculated average rate of change\n",
        "plt.annotate(f'Average change = {a[-1]:.2f}', (x2[-1], (f(x2[-1]) + y1) / 2))\n",
        "\n",
        "# Add legend and show plot\n",
        "plt.legend()\n",
        "plt.show()\n"
      ]
    },
    {
      "cell_type": "markdown",
      "metadata": {
        "id": "d0rUtZ9HVn7H"
      },
      "source": [
        "So far, this is just basic algebra; but what if instead of the average rate of change over an interval, we want to calculate the rate of change at a single point, say, where x = 4.5?\n",
        "\n",
        "One approach we could take is to create a secant line which is actually a tangent that goes through both points. We can then calculate the slope for the secant line as before."
      ]
    },
    {
      "cell_type": "code",
      "execution_count": null,
      "metadata": {
        "id": "atsw3HVoVpbK",
        "outputId": "c878ae5c-f8de-4f55-d9fe-6fe5681c8aca"
      },
      "outputs": [
        {
          "data": {
            "image/png": "[encoded data removed]",
            "text/plain": [
              "<Figure size 432x288 with 1 Axes>"
            ]
          },
          "metadata": {
            "needs_background": "light"
          },
          "output_type": "display_data"
        }
      ],
      "source": [
        "%matplotlib inline\n",
        "\n",
        "def f(x):\n",
        "    return x**2 + x\n",
        "\n",
        "from matplotlib import pyplot as plt\n",
        "\n",
        "# Create an array of x values from 0 to 10 to plot\n",
        "x = list(range(-10, 11))\n",
        "\n",
        "# Use the function to get the y values\n",
        "y = [f(i) for i in x]\n",
        "\n",
        "# Set the x1 point, arbitrarily 5\n",
        "x1 = 4.5\n",
        "y1 = f(x1)\n",
        "\n",
        "# Set the x2 point, very close to x1\n",
        "x2 = 5.000000001\n",
        "y2 = f(x2)\n",
        "\n",
        "# Set up the graph\n",
        "plt.xlabel('x')\n",
        "plt.ylabel('f(x)')\n",
        "plt.grid()\n",
        "\n",
        "# Plot the function\n",
        "plt.plot(x,y, color='green')\n",
        "\n",
        "# Plot the point\n",
        "plt.scatter(x1,y1, c='red')\n",
        "plt.annotate('x=' + str(x1),(x1,y1), xytext=(x1+0.5, y1-3))\n",
        "\n",
        "# Approximate the tangent slope and plot it\n",
        "m = (y2-y1)/(x2-x1)\n",
        "xMin = x1 - 3\n",
        "yMin = y1 - (3*m)\n",
        "xMax = x1 + 3\n",
        "yMax = y1 + (3*m)\n",
        "plt.plot([xMin,xMax],[yMin,yMax], color='magenta')\n",
        "\n",
        "plt.show()"
      ]
    },
    {
      "cell_type": "markdown",
      "metadata": {
        "id": "drYa3Y0onlOa"
      },
      "source": [
        "## Finding a Derivative for Any Point\n"
      ]
    },
    {
      "cell_type": "markdown",
      "metadata": {
        "id": "cpF_KcZlWsZL"
      },
      "source": [
        "\n",
        "Let's define a function that we can use to find the derivative for any point in the ***f*** function:\n",
        "\n",
        "\\begin{equation}f'(x) = \\lim_{h \\to 0} \\frac{f(x + h) - f(x)}{h} \\end{equation}\n",
        "\n",
        "\\begin{equation}f'(x) = \\lim_{h \\to 0} \\frac{((x+h)^{2} + x + h) - (x^{2} + x)}{h} \\end{equation}\n",
        "\n",
        "\\begin{equation}f'(x) = \\lim_{h \\to 0} \\frac{(x^{2} + h^{2} + 2xh + x + h) - (x^{2} + x)}{h} \\end{equation}\n",
        "\n",
        "\\begin{equation}f'(x) = \\lim_{h \\to 0} \\frac{x^{2} + h^{2} + 2xh + x + h - x^{2} - x}{h} \\end{equation}\n",
        "\n",
        "\\begin{equation}f'(x) = \\lim_{h \\to 0} \\frac{h^{2} + 2xh + h}{h} \\end{equation}\n",
        "\n",
        "**And finally, we can simplify the fraction**:\n",
        "\n",
        "\\begin{equation}f'(x) = \\lim_{h \\to 0} 2x + h + 1 \\end{equation}\n",
        "\n",
        "\\begin{equation}f'(x) = 2x + 0 + 1 \\end{equation}\n",
        "\n",
        "In conclusion:\n",
        "\n",
        "\\begin{equation}f'(x) = 2x + 1 \\end{equation}\n",
        "\n",
        "For example, let's find the derivative of ***f*** with an x=5:\n",
        "\n",
        "\\begin{equation}f'(5) = 2\\cdot5 + 1 = 10 + 1 = 11\\end{equation}\n"
      ]
    },
    {
      "cell_type": "code",
      "execution_count": null,
      "metadata": {
        "id": "UQhV5IzRWvCn",
        "outputId": "c2f6774d-dea1-42f5-d077-49abd789220e"
      },
      "outputs": [
        {
          "data": {
            "image/png": "[encoded data removed]",
            "text/plain": [
              "<Figure size 432x288 with 1 Axes>"
            ]
          },
          "metadata": {
            "needs_background": "light"
          },
          "output_type": "display_data"
        }
      ],
      "source": [
        "%matplotlib inline\n",
        "\n",
        "# Create function f\n",
        "def f(x):\n",
        "    return x**2 + x\n",
        "\n",
        "# Create derivative function for f\n",
        "def fd(x):\n",
        "    return (2 * x) + 1\n",
        "\n",
        "from matplotlib import pyplot as plt\n",
        "\n",
        "# Create an array of x values from 0 to 10 to plot\n",
        "x = list(range(0, 11))\n",
        "\n",
        "# Use the function to get the y values\n",
        "y = [f(i) for i in x]\n",
        "\n",
        "# Set the point\n",
        "x1 = 5\n",
        "y1 = f(x1)\n",
        "\n",
        "# Calculate the derivative using the derivative function\n",
        "m = fd(x1)\n",
        "\n",
        "# Set up the graph\n",
        "plt.xlabel('x')\n",
        "plt.ylabel('f(x)')\n",
        "plt.grid()\n",
        "\n",
        "# Plot the function\n",
        "plt.plot(x,y, color='green')\n",
        "\n",
        "# Plot the point\n",
        "plt.scatter(x1,y1, c='red')\n",
        "plt.annotate('(x,f(x))',(x1,y1), xytext=(x1-0.5, y1+8.6))\n",
        "\n",
        "# Plot the tangent line using the derivative we calculated\n",
        "xMin = x1 - 3\n",
        "yMin = y1 - (3*m)\n",
        "xMax = x1 + 3\n",
        "yMax = y1 + (3*m)\n",
        "plt.plot([xMin,xMax],[yMin,yMax], color='magenta')\n",
        "\n",
        "plt.show()"
      ]
    },
    {
      "cell_type": "markdown",
      "metadata": {
        "id": "NxKuCtkuiX-6"
      },
      "source": [
        "##Chain rule"
      ]
    },
    {
      "cell_type": "markdown",
      "metadata": {
        "id": "HwCgAi_Zwpg4"
      },
      "source": [
        "If you decide to dive deeper into machine learning algorithms you’ll see chain rule popping up everywhere — gradient descent, backpropagation, you name it.\n"
      ]
    },
    {
      "cell_type": "code",
      "execution_count": 23,
      "metadata": {
        "id": "HZf3L9fnices",
        "colab": {
          "base_uri": "https://localhost:8080/",
          "height": 42
        },
        "outputId": "69ec510c-05fb-48af-9b7e-8e82137a8668"
      },
      "outputs": [
        {
          "output_type": "execute_result",
          "data": {
            "text/plain": [
              "(6*x - 9)*(x**2 - 3*x + 5)**2"
            ],
            "text/latex": "$\\displaystyle \\left(6 x - 9\\right) \\left(x^{2} - 3 x + 5\\right)^{2}$"
          },
          "metadata": {},
          "execution_count": 23
        }
      ],
      "source": [
        "x = sym.Symbol('x')\n",
        "\n",
        "sym.diff(((x**2)-3*x+5)**3)"
      ]
    },
    {
      "cell_type": "markdown",
      "metadata": {
        "id": "L5z7IRfFidfw"
      },
      "source": [
        "## Product rule"
      ]
    },
    {
      "cell_type": "code",
      "execution_count": 22,
      "metadata": {
        "id": "Pc1-A65NwDaG",
        "colab": {
          "base_uri": "https://localhost:8080/",
          "height": 39
        },
        "outputId": "320cf46f-f3a5-492a-c1a7-c48125316189"
      },
      "outputs": [
        {
          "output_type": "execute_result",
          "data": {
            "text/plain": [
              "2*X*cos(X) - (X**2 + 1)*sin(X)"
            ],
            "text/latex": "$\\displaystyle 2 X \\cos{\\left(X \\right)} - \\left(X^{2} + 1\\right) \\sin{\\left(X \\right)}$"
          },
          "metadata": {},
          "execution_count": 22
        }
      ],
      "source": [
        "x = sym.Symbol('X')\n",
        "sym.diff((x**2+1) * sym.cos(x))"
      ]
    },
    {
      "cell_type": "markdown",
      "metadata": {
        "id": "NdHfUgPaO7nd"
      },
      "source": [
        "# Jacobian"
      ]
    },
    {
      "cell_type": "markdown",
      "metadata": {
        "id": "HsgWiGqIXxRq"
      },
      "source": [
        "Mathematically, if you have a vector valued function $\\vec{y}=f(\\vec{x})$,\n",
        "then the gradient of $\\vec{y}$ with respect to $\\vec{x}$\n",
        "is a Jacobian matrix:\n",
        "\n",
        "\\begin{align}J=\\left(\\begin{array}{ccc}\n",
        "   \\frac{\\partial y_{1}}{\\partial x_{1}} & \\cdots & \\frac{\\partial y_{1}}{\\partial x_{n}}\\\\\n",
        "   \\vdots & \\ddots & \\vdots\\\\\n",
        "   \\frac{\\partial y_{m}}{\\partial x_{1}} & \\cdots & \\frac{\\partial y_{m}}{\\partial x_{n}}\n",
        "   \\end{array}\\right)\\end{align}\n",
        "   \n",
        "- https://www.geogebra.org/m/qM777NYH\n",
        "   "
      ]
    },
    {
      "cell_type": "markdown",
      "metadata": {
        "id": "SX-5aTCbtkCM"
      },
      "source": [
        "Using Sympy module"
      ]
    },
    {
      "cell_type": "code",
      "execution_count": null,
      "metadata": {
        "id": "jkn2vF3ieMXd",
        "outputId": "6828ea90-9089-439c-fb09-7cdca437844d"
      },
      "outputs": [
        {
          "data": {
            "text/latex": [
              "$\\displaystyle \\left[\\begin{matrix}2 x & 0\\\\1 & 1\\end{matrix}\\right]$"
            ],
            "text/plain": [
              "Matrix([\n",
              "[2*x, 0],\n",
              "[  1, 1]])"
            ]
          },
          "execution_count": 33,
          "metadata": {},
          "output_type": "execute_result"
        }
      ],
      "source": [
        "from sympy import sin, cos, Matrix\n",
        "\n",
        "x,y = sym.symbols('x,y')\n",
        "F = sym.Matrix([x**2,x+y])\n",
        "F.jacobian([x,y])"
      ]
    },
    {
      "cell_type": "code",
      "execution_count": null,
      "metadata": {
        "id": "xmDGAF0rgVB-",
        "outputId": "8d5869f5-39d7-48be-e0b7-2ade46e9fc60"
      },
      "outputs": [
        {
          "data": {
            "text/latex": [
              "$\\displaystyle \\left[\\begin{matrix}2 x y & x^{2}\\\\5 & \\cos{\\left(y \\right)}\\end{matrix}\\right]$"
            ],
            "text/plain": [
              "Matrix([\n",
              "[2*x*y,   x**2],\n",
              "[    5, cos(y)]])"
            ]
          },
          "execution_count": 34,
          "metadata": {},
          "output_type": "execute_result"
        }
      ],
      "source": [
        "Fxy = sym.Matrix([(x**2)*y,  5*x + sym.sin(y)])\n",
        "gradient = Fxy.jacobian([x,y])\n",
        "gradient\n"
      ]
    },
    {
      "cell_type": "markdown",
      "metadata": {
        "id": "zMessBeHPBUg"
      },
      "source": [
        "#Hessian matrix"
      ]
    },
    {
      "cell_type": "markdown",
      "metadata": {
        "id": "ImEGT4ztY8yT"
      },
      "source": [
        "When our function has multiple input dimensions, there are many second derivatives. These derivatives can be collected together into a matrix called the __Hessian matrix__. The Hessian matrix $H (f)(x)$ is defined such that:\n",
        "\n",
        "$$\\color{orange}{H(f)(x)_{i, j} = \\frac{\\partial^2}{\\partial x_i \\partial x_j} f(x) }$$\n",
        "\n",
        "Equivalently, the Hessian is the Jacobian of the gradient.\n",
        "\n",
        "- https://jhyun0919.github.io/research/mathematics/2020/07/21/geometric-meaning-of-hessian.html\n"
      ]
    },
    {
      "cell_type": "code",
      "execution_count": null,
      "metadata": {
        "id": "J7fozbZx3Ue7"
      },
      "outputs": [],
      "source": [
        "from sympy.abc import x, y\n",
        "from sympy import ordered, Matrix, hessian\n",
        "x,y = sym.symbols('x,y')\n",
        "Fxy = sym.Matrix([(x**2)*y,  5*x + sym.sin(y)])\n",
        "Jac= Fxy.jacobian([x,y])"
      ]
    },
    {
      "cell_type": "code",
      "execution_count": null,
      "metadata": {
        "id": "ADPK5DoYisRG"
      },
      "outputs": [],
      "source": [
        "\n",
        "eq = -7*(x**2) - 5*x*y - 4*(y**2)\n"
      ]
    },
    {
      "cell_type": "code",
      "execution_count": 24,
      "metadata": {
        "colab": {
          "base_uri": "https://localhost:8080/"
        },
        "id": "Xj0en0mbaQhW",
        "outputId": "06910a15-895a-4382-e36e-c888f0e2b84a"
      },
      "outputs": [
        {
          "output_type": "stream",
          "name": "stdout",
          "text": [
            "⎡                           ∂               ∂            ⎤\n",
            "⎢     0            0        ──(g(x, y))     ──(g(x, y))  ⎥\n",
            "⎢                           ∂x              ∂y           ⎥\n",
            "⎢                                                        ⎥\n",
            "⎢     0            0        -14⋅x - 5⋅y      -5⋅x - 8⋅y  ⎥\n",
            "⎢                                                        ⎥\n",
            "⎢                            2               2           ⎥\n",
            "⎢∂                          ∂               ∂            ⎥\n",
            "⎢──(g(x, y))  -14⋅x - 5⋅y   ───(f(x, y))   ─────(f(x, y))⎥\n",
            "⎢∂x                           2            ∂y ∂x         ⎥\n",
            "⎢                           ∂x                           ⎥\n",
            "⎢                                                        ⎥\n",
            "⎢                            2               2           ⎥\n",
            "⎢∂                          ∂               ∂            ⎥\n",
            "⎢──(g(x, y))  -5⋅x - 8⋅y   ─────(f(x, y))   ───(f(x, y)) ⎥\n",
            "⎢∂y                        ∂y ∂x              2          ⎥\n",
            "⎣                                           ∂y           ⎦\n"
          ]
        }
      ],
      "source": [
        "from sympy import Function, hessian, pprint\n",
        "from sympy.abc import x, y\n",
        "f = Function('f')(x, y)\n",
        "g1 = Function('g')(x, y)\n",
        "g2 = -7*(x**2) - 5*x*y - 4*(y**2)\n",
        "pprint(hessian(f, (x, y), [g1, g2]))"
      ]
    },
    {
      "cell_type": "code",
      "execution_count": null,
      "metadata": {
        "id": "7tgtV93UjS4x",
        "outputId": "7463a19c-2997-4661-c712-75561477e6bd"
      },
      "outputs": [
        {
          "data": {
            "text/plain": [
              "[x, y]"
            ]
          },
          "execution_count": 38,
          "metadata": {},
          "output_type": "execute_result"
        }
      ],
      "source": [
        "v = list(ordered(eq.free_symbols))\n",
        "v"
      ]
    },
    {
      "cell_type": "code",
      "execution_count": null,
      "metadata": {
        "id": "DSYncHFu3fwH"
      },
      "outputs": [],
      "source": [
        "gradient = lambda f, v: Matrix([f]).jacobian(v)"
      ]
    },
    {
      "cell_type": "code",
      "execution_count": null,
      "metadata": {
        "id": "0GEk4o_J3gxh",
        "outputId": "39b6e190-4214-4a81-9442-c057dc48586a"
      },
      "outputs": [
        {
          "data": {
            "text/latex": [
              "$\\displaystyle \\left[\\begin{matrix}- 14 x - 5 y & - 5 x - 8 y\\end{matrix}\\right]$"
            ],
            "text/plain": [
              "Matrix([[-14*x - 5*y, -5*x - 8*y]])"
            ]
          },
          "execution_count": 40,
          "metadata": {},
          "output_type": "execute_result"
        }
      ],
      "source": [
        "gradient(eq, v)"
      ]
    },
    {
      "cell_type": "code",
      "execution_count": null,
      "metadata": {
        "id": "NuSc2LPs3lJ7",
        "outputId": "2c672802-97db-4f35-d2c1-7f9b8936109e"
      },
      "outputs": [
        {
          "data": {
            "text/latex": [
              "$\\displaystyle \\left[\\begin{matrix}-14 & -5\\\\-5 & -8\\end{matrix}\\right]$"
            ],
            "text/plain": [
              "Matrix([\n",
              "[-14, -5],\n",
              "[ -5, -8]])"
            ]
          },
          "execution_count": 41,
          "metadata": {},
          "output_type": "execute_result"
        }
      ],
      "source": [
        "hessian(eq,v)"
      ]
    },
    {
      "cell_type": "code",
      "execution_count": null,
      "metadata": {
        "id": "_d2ctafTmFqb"
      },
      "outputs": [],
      "source": [
        "eq1 = (x**2) * y\n"
      ]
    },
    {
      "cell_type": "code",
      "execution_count": null,
      "metadata": {
        "id": "0ie3TKH2mMz0",
        "outputId": "f5c28a88-85af-4451-ce9a-95a3225f23ac"
      },
      "outputs": [
        {
          "data": {
            "text/latex": [
              "$\\displaystyle \\left[\\begin{matrix}2 y & 2 x\\\\2 x & 0\\end{matrix}\\right]$"
            ],
            "text/plain": [
              "Matrix([\n",
              "[2*y, 2*x],\n",
              "[2*x,   0]])"
            ]
          },
          "execution_count": 43,
          "metadata": {},
          "output_type": "execute_result"
        }
      ],
      "source": [
        "hessian(eq1,v)"
      ]
    },
    {
      "cell_type": "code",
      "execution_count": null,
      "metadata": {
        "id": "nu22YlGdUjUu"
      },
      "outputs": [],
      "source": []
    },
    {
      "cell_type": "markdown",
      "metadata": {
        "id": "7IcaIECl-Wvx"
      },
      "source": [
        "# Application"
      ]
    },
    {
      "cell_type": "markdown",
      "metadata": {
        "id": "_e8n5lJi-b2z"
      },
      "source": [
        "## Finding acceleration of vehicle"
      ]
    },
    {
      "cell_type": "markdown",
      "metadata": {
        "id": "OM3nmtP5DS2i"
      },
      "source": [
        "If the speed of the vehicle is given as function of position (x),\n",
        "find the acceleration of the vehicle.\n",
        "\n"
      ]
    },
    {
      "cell_type": "code",
      "execution_count": null,
      "metadata": {
        "id": "y2Yu4nA1DLN2"
      },
      "outputs": [],
      "source": [
        "import matplotlib.pyplot as plt\n",
        "import numpy as np\n",
        "distance = 1\n",
        "x = np.arange(0,distance*np.pi,0.1)  # start,stop,steps\n",
        "speed = np.sin(x) + 2\n",
        "acceleration = np.cos(x)"
      ]
    },
    {
      "cell_type": "code",
      "execution_count": null,
      "metadata": {
        "id": "D1ctTYIFDts6",
        "outputId": "9476e5f0-cb7b-4b52-eeec-888d0cbc5b2d"
      },
      "outputs": [
        {
          "data": {
            "image/png": "[encoded data removed]",
            "text/plain": [
              "<Figure size 432x288 with 1 Axes>"
            ]
          },
          "metadata": {
            "needs_background": "light"
          },
          "output_type": "display_data"
        }
      ],
      "source": [
        "plt.plot(x,speed,x,acceleration)\n",
        "plt.xlabel('X values')\n",
        "plt.ylabel('Y=F(x)')\n",
        "plt.legend(['speed','acceleration'])\n",
        "plt.grid(True)\n",
        "plt.show()"
      ]
    },
    {
      "cell_type": "markdown",
      "metadata": {
        "id": "klU8ybHQE_Xx"
      },
      "source": [
        "Interpreting result:\n",
        "- At maximum or minimum speed, the slope of the curve is Zero (acceleration is zero)\n",
        "- When there is change in speed happens from less than 2 to more than 2, acceleration becomes maximum.\n",
        "- Taking derivatives provides you enough information about the physical reality of the events."
      ]
    }
  ],
  "metadata": {
    "colab": {
      "provenance": [],
      "include_colab_link": true
    },
    "kernelspec": {
      "display_name": "Python 3 (ipykernel)",
      "language": "python",
      "name": "python3"
    },
    "language_info": {
      "codemirror_mode": {
        "name": "ipython",
        "version": 3
      },
      "file_extension": ".py",
      "mimetype": "text/x-python",
      "name": "python",
      "nbconvert_exporter": "python",
      "pygments_lexer": "ipython3",
      "version": "3.10.12"
    }
  },
  "nbformat": 4,
  "nbformat_minor": 0
}